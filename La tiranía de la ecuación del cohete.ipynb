{
 "cells": [
  {
   "cell_type": "markdown",
   "metadata": {
    "collapsed": true
   },
   "source": [
    "# La tiranía de la Ecuación del Cohete"
   ]
  },
  {
   "cell_type": "markdown",
   "metadata": {},
   "source": [
    "## *Por qué se necesitan varias etapas en un lanzador e incluso ensamblar las naves en órbita*"
   ]
  },
  {
   "cell_type": "markdown",
   "metadata": {},
   "source": [
    "### Naves espaciales."
   ]
  },
  {
   "cell_type": "markdown",
   "metadata": {},
   "source": [
    "Naves. Espaciales.\n",
    "\n",
    "Las naves espaciales son alucinantes. Fascinantes, increíbles, excelsas, abrumadoramente geniales. Ya funcionen con combustibles normales y corrientes, materia oscura, magia negra, pólvora o grog, ya viajen por el espacio a velocidad de tortuga, a varios kilómetros por segundo, a la velocidad de la luz, la velocidad absurda o incluso la sobrepasen mediante una singularidad, plegando el espacio, zambulléndose en la disformidad, o simplemente llegue a su destino contra la improbabilidad infinita de aparecer ahí, las naves espaciales son de lo mejor que ha inventado la humanidad, ahí ahí con el chocolate o las pizzas."
   ]
  },
  {
   "cell_type": "markdown",
   "metadata": {},
   "source": [
    "<table>\n",
    "<tr>\n",
    "<th>[![](fotos/200Enterprise.jpg)](http://trekinitiative.wikia.com/wiki/File:Enterprise_@_warp.jpg)</th>\n",
    "<th>[![](fotos/200Futurama.jpg)](http://es.futurama.wikia.com/wiki/Nave_Planet_Express)</th>\n",
    "<th>[![](fotos/200granatuin.jpg)](http://pumpkindante.deviantart.com/art/The-Great-A-Tuin-377640489)</th>\n",
    "<th>[![](fotos/200Hyperspace_falcon.jpg)](http://starwars.wikia.com/wiki/Lightspeed)</th>\n",
    "<th>[![](fotos/200tardis.jpg)](http://guile93.deviantart.com/art/Tardis-leaving-348202689)</th>\n",
    "</tr>\n",
    "</table>"
   ]
  },
  {
   "cell_type": "markdown",
   "metadata": {},
   "source": [
    "Sin embargo, la mayoría de esas naves tienen el grave defecto de ser ficticias. Por otro lado, también hay muchas de ellas que tienen la gran ventaja, ojo al dato a esto, de ser reales. Reales de verdad. Que son ahí de yerro que puedes ir y tocarlo y de verdad vuela en el espacio. Y eso sí que es alucinante de verdad. Y por eso es en ellas en las que nos vamos a centrar."
   ]
  },
  {
   "cell_type": "markdown",
   "metadata": {},
   "source": [
    "### La Ecuación del Cohete de Tsiolkovski"
   ]
  },
  {
   "cell_type": "markdown",
   "metadata": {},
   "source": [
    "    from cruel_reality import Tsiolkovski_Rocket_Equation"
   ]
  },
  {
   "cell_type": "markdown",
   "metadata": {},
   "source": [
    "Para realizar cualquier maniobra, típicamente un cambio de velocidad, el piloto no tiene más remedio que gastar combustible y lanzar los gases que produce al quemarse lo más deprisa posible que pueda en sentido contrario al que quiere acelerar. Otros motores más sofisticados no queman el combustible, sino que lo transforman en plasma y lo aceleran electromagnéticamente. Pero la clave sigue siendo la misma: **lanzar material en dirección contraria a la que quieres acelerar.** Actualmente, esta es la única manera conocida de que una nave pueda maniobrar por sí sola en el espacio, y de momento parece que no van a surgir maneras nuevas a corto plazo (aunque con la ayuda de otros cuerpos celestes, como un planeta o una estrella, una nave puede impulsarse mediante maniobras de asistencia gravitatoria o velas solares, pero son casos concretos útiles en condiciones específicas). En general, uno puede imaginarse una nave espacial como un bote de remos que además debe cargar con el agua contra la que los remos hacen fuerza.\n",
    "\n",
    "Analizando un volumen de control formado por la nave y la superficie de escape de los motores, [se puede llegar a la ecuación clave del diseño de cohetes](http://en.wikipedia.org/wiki/Tsiolkovsky_rocket_equation#Derivation) : La Ecuación del cohete de Tsiolkovsky:\n",
    "\n",
    "$$ \\Delta v =v_e \\cdot \\ln \\left( \\frac {m_0}{m_1} \\right)$$\n",
    "\n",
    "En la que $ \\Delta v $ representa el **incremento de velocidad obtenido**, $v_e$ la **velocidad eficaz**, que viene a ser la velocidad a la que se expulsan los gases con respecto a la nave, $m_0$ la masa de la nave antes de realizar la maniobra y $m_1$ la masa final.\n",
    "\n",
    "El $ \\Delta v$ es una de las variables más importantes en el diseño de naves espaciales. Representa la capacidad de una nave para cambiar su velocidad. Las misiones espaciales están formadas por maniobras, como un cambio de órbita, y cada maniobra lleva asociada un cambio de velocidad que es independiente de la nave que la lleva a cabo. Otra ventaja de usar esta magnitud es que se pueden sumar: si la misión necesita tres maniobras, puedes sumar el $ \\Delta v$ de cada una para obtener el $ \\Delta v$ necesario para la misión completa. Comparando este valor con el $ \\Delta v$ que podemos conseguir con nuestra nave, sabremos si podemos llevar a cabo la misión o no. \n",
    "\n",
    "La velocidad eficaz depende principalmente del diseño del motor y del combustible utilizado. Podemos decir que suele rondar valores de los 3 Km/s.\n",
    "\n",
    "Mediante las ecuaciones de mecánica de fluídos en ese mismo volumen de control, podemos encontrar también otra expresión útil:\n",
    "\n",
    "$$ T = \\dot m \\cdot v_e$$\n",
    "\n",
    "En la que $T$ es el **empuje**, la fuerza con la que el motor impulsa la nave, y $\\dot m$ es el **gasto másico**, la cantidad de gases expulsados cada segundo, en Kg/s.\n",
    "\n",
    "De estas dos expresiones se puede deducir por qué esta $v_e$ es el principal parámetro que describe la eficiencia del cohete:\n",
    "- De la primera ecuación, se puede observar que para una cantidad de combustible dada, a mayor $v_e$, mayor $\\Delta v$, es decir, con mayor $v_e$ seremos capaces de conseguir más velocidad para una misma cantidad de kg de combustible.\n",
    "- De la segunda, a su vez, se comprueba que para un gasto dado, incrementar $v_e$ aumentará en la misma proporción el $T$, o lo que es lo mismo, el motor será capaz de aplicar una fuerza mayor para un mismo gasto de combustible en Kg/s\n",
    "\n",
    "---\n",
    "Utilicemos la primera ecuación para explicar por qué se suele decir que las naves espaciales están sometidas a *\"la tiranía de la ecuación del cohete\"*.\n",
    "\n",
    "Para ello, representaremos en vertical $\\Delta v /v_e $ y en horizontal el cociente $m_0/m_1$ usando Numpy y Matplotlib."
   ]
  },
  {
   "cell_type": "code",
   "execution_count": 1,
   "metadata": {
    "collapsed": false
   },
   "outputs": [],
   "source": [
    "#Importamos ambos paquetes de la manera usual\n",
    "%matplotlib inline\n",
    "import numpy as np\n",
    "import matplotlib.pyplot as plt"
   ]
  },
  {
   "cell_type": "code",
   "execution_count": 2,
   "metadata": {
    "collapsed": false
   },
   "outputs": [],
   "source": [
    "#Definimos la función que nos dará el delta v entre ve a partir del cociente de masas\n",
    "def eq_cohete_adim(cociente_masas):\n",
    "    return np.log(cociente_masas)"
   ]
  },
  {
   "cell_type": "markdown",
   "metadata": {},
   "source": [
    "He llamado a esta función así porque devuelve el cociente entre el $\\Delta v $ y la velocidad efectiva $v_e$, o lo que es lo mismo, el $\\Delta v$ adimensionalizado con esta."
   ]
  },
  {
   "cell_type": "code",
   "execution_count": 3,
   "metadata": {
    "collapsed": false
   },
   "outputs": [
    {
     "data": {
      "text/plain": [
       "[<matplotlib.lines.Line2D at 0x7f709e9917f0>]"
      ]
     },
     "execution_count": 3,
     "metadata": {},
     "output_type": "execute_result"
    },
    {
     "data": {
      "image/png": "[encoded data removed]",
      "text/plain": [
       "<matplotlib.figure.Figure at 0x7f709ea67470>"
      ]
     },
     "metadata": {},
     "output_type": "display_data"
    }
   ],
   "source": [
    "#Ahora, para pintar nuestra función, usaremos matplotlib a la manera habitual\n",
    "\n",
    "#Primero crearemos un array 1D de unos 200 elementos donde almacenaremos los posibles valores del cociente de masas\n",
    "\n",
    "cociente_masas = np.linspace(1,40, 200)\n",
    "\n",
    "#El mínimo cociente es 1, es decir, la masa inicial y final es la misma, no se ha consumido combustible.\n",
    "#El máximo cociente que he usado es 40, suponiendo que el peso del combustible es el 97,5% del peso total inicial de la nave\n",
    "\n",
    "delta_v_adim = eq_cohete_adim(cociente_masas)\n",
    "\n",
    "#Y pintamos al gusto\n",
    "\n",
    "\n",
    "plt.figure(figsize=(12, 6))\n",
    "plt.xlabel('$m_0/m_1$',fontsize=20)\n",
    "plt.ylabel('$\\Delta v /v_e$',fontsize=20)\n",
    "plt.title ('$\\Delta v /v_e  = f(m_0/m_1)$',fontsize=20)\n",
    "plt.grid()\n",
    "plt.plot(cociente_masas,delta_v_adim)"
   ]
  },
  {
   "cell_type": "markdown",
   "metadata": {},
   "source": [
    "Puede observarse que si necesitamos un $\\Delta v$ del mismo orden de la $v_e$, es suficiente con que más o menos el 60% del peso sea combustible. Sin embargo, para alcanzar el doble de velocidad, necesitamos que lo sea aproximadamente el 80%, para el triple, el 95% y para 4 veces $v_e$ necesitaríamos gastar más del 98% del peso inicial en combustible a quemar."
   ]
  },
  {
   "cell_type": "markdown",
   "metadata": {},
   "source": [
    "### Distribuciones de Masa"
   ]
  },
  {
   "cell_type": "markdown",
   "metadata": {},
   "source": [
    "Normalmente, en el diseño de cohetes y naves, la masa inicial $m_0$ se suele dividir en varias: \n",
    "- $m_s$ es la masa estructural, incluyendo la estructura del cohete en sí, el motor, los instrumentos y el equipo, etc\n",
    "- $m_p$ es la masa del propelente o combustible\n",
    "- $m_{pl}$ es la masa de la carga de pago. Es el equipamiento útil que forma la nave en la etapa final. \n",
    "\n",
    "Así pues : $m_0 = m_s + m_p +m_{pl} $\n",
    "\n",
    "Tomemos como ejemplo un cohete Ariane 5, $m_0 = 780 t$. En este caso, por ejemplo, la carga de pago (payload en inglés) es un satélite que se pretende lanzar a órbita de transferencia geoestacionara.\n",
    "- $m_s = 100 t$\n",
    "- $m_p = 670 t$\n",
    "- $m_{pl} = 10 t$\n",
    "\n",
    "Utilicemos estos datos para dibujar otra gráfica que resulta muy informativa. En primer lugar, definamos un par de coeficientes para trabajar con ellos:\n",
    "- Índice estructural $\\sigma = m_s / m_0$ Representa la porción de la masa inicial de la masa estructural. En nuestro ejemplo: $\\sigma = 100 / 780 = 0.13$. La estructura representa el 13% del peso.\n",
    "- Índice de carga de pago $\\mu = m_{pl}/m_0$ Representa a su vez la porción correspondiente a la carga de pago, en nuestro caso, el satélite. $\\mu = 10/780 = 0.0128$. El satélite, la parte útil del cohete, constituye sólo el 1,28 % de la masa inicial. Sorprendente, ¿no es así?\n",
    "\n",
    "Con estos parámetros, vamos a representar ahora una gráfica que relacione el $\\Delta v$ adimensional con el índice de carga de pago $\\mu$, para diferentes valores de índice estructural $\\sigma$. Para ello, tendremos en cuenta lo siguiente:\n",
    "\n",
    "$$\\frac{m_0}{m_1} = \\frac{1}{\\frac{m_1}{m_0}} = \\frac{1}{\\frac{m_s + m_{pl}}{m_0}} = \\frac{1}{\\frac{m_s}{m_0}+ \\frac{m_{pl}}{m_0}} = \\frac{1}{\\sigma + \\mu}$$"
   ]
  },
  {
   "cell_type": "code",
   "execution_count": 4,
   "metadata": {
    "collapsed": false
   },
   "outputs": [],
   "source": [
    "#Se puede definir una función a partir de la anterior que calcule fácilmente el delta v a partir de los índices de masa\n",
    "def eq_cohete_adim_masa (sigma, mu):\n",
    "    temp = 1 / (sigma + mu)\n",
    "    return eq_cohete_adim (temp)"
   ]
  },
  {
   "cell_type": "code",
   "execution_count": 5,
   "metadata": {
    "collapsed": false
   },
   "outputs": [
    {
     "data": {
      "text/plain": [
       "<matplotlib.legend.Legend at 0x7f709bfb0828>"
      ]
     },
     "execution_count": 5,
     "metadata": {},
     "output_type": "execute_result"
    },
    {
     "data": {
      "image/png": "[encoded data removed]",
      "text/plain": [
       "<matplotlib.figure.Figure at 0x7f709bd8fdd8>"
      ]
     },
     "metadata": {},
     "output_type": "display_data"
    }
   ],
   "source": [
    "#Ahora, para pintar nuestra función, usaremos matplotlib a la manera habitual\n",
    "\n",
    "#Esta vez, nuestra variable independiente va a ser el índice de carga de pago.\n",
    "#Sus valores máximo y mínimo serán, lógicamente, 0 y 1\n",
    "\n",
    "mu = np.linspace(0,1, 200)\n",
    "\n",
    "#Ahora vamos a pintar 3 líneas para 3 valores del índice estructural\n",
    "#Hemos visto que para el Ariane 5, es 0,13, así que este será uno de los que usemos.\n",
    "#Pintaremos también uno con sigma = 0,2, un lanzador algo peor que el Ariane\n",
    "#El otro valor será 0,08, un valor excepcionalmente bajo, que representaría un lanzador de calidad y eficacia inigualable\n",
    "\n",
    "\n",
    "plt.figure(figsize=(12, 6))\n",
    "plt.xlabel('$\\mu$',fontsize=20)\n",
    "plt.ylabel('$\\Delta v /v_e$',fontsize=20)\n",
    "plt.title ('$\\Delta v /v_e  = f(\\sigma,\\mu)$',fontsize=20)\n",
    "plt.grid()\n",
    "plt.ylim(0,3)\n",
    "\n",
    "plt.rc('font', size = 18)\n",
    "plt.plot(mu,eq_cohete_adim_masa(0.2, mu),label='$\\sigma = 0.2$')\n",
    "plt.plot(mu,eq_cohete_adim_masa(0.13, mu),label='$\\sigma = 0.13$')\n",
    "plt.plot(mu,eq_cohete_adim_masa(0.08, mu),label='$\\sigma = 0.08$')\n",
    "plt.plot([0.0128, 0.0128], [0, 3],'k--', label='$\\mu Ariane$')\n",
    "plt.legend()"
   ]
  },
  {
   "cell_type": "markdown",
   "metadata": {},
   "source": [
    "En esta gráfica, por el lado de la derecha, se puede comprobar que el $\\Delta v$ se hace 0 en el punto en el que $\\sigma + \\mu = 1$, como era de esperar, ya que en ese caso, toda la masa del cohete es estructura y carga de pago, por lo que no hay combustible. Así, nuestro cohete no puede llegar muy lejos, no.\n",
    "\n",
    "Pero fijémonos en los puntos más a la izquierda. En los puntos en los que $\\mu$ = 0 , el cohete va vacío, impulsándo sólo a su propia estructura sin llevar ninguna nave ni satélite a bordo. Y el $\\Delta v$ que es capaz de conseguir, aún así, es del orden de 2 veces $v_e$, como mucho 3 veces siendo optimistas. ¿Significa esto que estamos condenados a no superar jamás la frontera de 3$v_e$?\n",
    "\n",
    "Bien, la respuesta corta es *no*.\n",
    "\n",
    "Volvamos a nuestro Ariane 5. Su motor principal, el Vulcain 2, tiene una $v_e$ de aproximadamente 4 Km/s en el vacío. Su $\\sigma$ es de 0,13 y su $\\mu$, de 0,013 cuando lleva un satélite a una órbita de transferencia geoestacionaria. Para alcanzar esta órbita, como veremos más adelante, se necesita un $\\Delta v$ de aproximadamente 11,5 Km/s.\n",
    "\n",
    "Es fácil comprobar que estos datos no coinciden ni de lejos con la gráfica anterior. Pues vaya, menuda gracia. ¿Está mal la gráfica? ¿Utiliza la ESA un bug de la física del espacio para lanzar cohetes? ¿Magia negra? Las respuestas a estas preguntas son simplemente no, no y sí. Pero la clave del asunto es que **la gráfica ilustra las características de *UN* cohete, y el lanzador Ariane 5 está compuesto en realidad de *varios* cohetes** apilados de forma que se pueda alcanzar esta misión. \n",
    "\n",
    "¿Cómo podemos estudiar y modelar este sistema?\n"
   ]
  },
  {
   "cell_type": "markdown",
   "metadata": {},
   "source": [
    "### Dividiendo un cohete en etapas: El espacio es caro, no imposible."
   ]
  },
  {
   "cell_type": "markdown",
   "metadata": {},
   "source": [
    "\n",
    "<table>\n",
    "<tr>\n",
    "<th>[![](fotos/205JebKerman.jpg)](http://mk01.deviantart.com/art/Kerbal-Space-Odyssey-243246016)</th>\n",
    "<th>[![](fotos/205Apollo.jpg)](http://es.wikipedia.org/wiki/Saturno_V#Secuencia_de_la_S-II)</th>\n",
    "<th>[![](fotos/205Korolev.jpg)](http://danielmarin.naukas.com/2014/04/06/el-lanzamiento-de-un-cohete-soyuz-como-nunca-lo-habias-visto/)</th>\n",
    "<th>[![](fotos/205SaturnV.jpg)](http://commons.wikimedia.org/wiki/File:Saturn5rocket_detailed_lmb.png)</th>\n",
    "<th>[![](fotos/205needMoarBoosters.jpg)](http://jeffmcdowalldesign.deviantart.com/art/Needs-Moar-Boosters-482458590)</th>\n",
    "</tr>\n",
    "</table>"
   ]
  },
  {
   "cell_type": "markdown",
   "metadata": {},
   "source": [
    "Como hemos visto, la capacidad de un cohete de proporcionar $\\Delta v$ viene determinada por su velocidad de escape efectiva $v_e$ y por el porcentaje de la masa del vehículo que se consume durante la propulsión.\n",
    "\n",
    "\n",
    "También hemos comprobado que el porcentaje de masa que es combustible está limitada por el peso de la estructura y la carga útil, así que tenemos un límite por este lado al $\\Delta v$ que podemos sacar del cohete.\n",
    "\n",
    "Por el lado de la velocidad de escape efectiva, tampoco podemos actuar, ya que depende principalmente del combustible usado, también de la geometría de la tobera, y ligeramente de la presión atmosférica. Este dato normalmente no se suministra tal cual, sino a través de otro, el Impulso Específico $I_{sp}$. Este $I_{sp}$ se puede calcular fácilmente a partir de $v_e$ y viceversa, y tiene unidades de segundos.\n",
    "\n",
    "$$v_e = I_{sp} \\cdot g_0$$\n",
    "$$I_{sp} = v_e / g_0$$"
   ]
  },
  {
   "cell_type": "markdown",
   "metadata": {},
   "source": [
    "Cambiemos de ejemplo desde nuestro Ariane hasta otro gran icono de la astronáutica: el cohete Saturno V que transportó a las misiones Apollo hasta la luna. Este enorme cohete, de 110 metros de altura y casi 3 millones de kg, estaba en realidad dividido en 3 fases, que se iban activando consecutivamente. Pero, ¿qué conseguían con esto? La respuesta aparece estudiando las fases empezando por la última:\n",
    "\n",
    "- Tercera Fase:\n",
    "    - Carga de pago: Naves Apollo (48.600 kg)\n",
    "    - Masa estructural: 13.500 kg\n",
    "    - Masa de combustible: 109.500 kg\n",
    "    - Masa inicial: $m_0 = m_s + m_p +m_{pl} $ = 171.600 kg\n",
    "    - Índice estructural $\\sigma = m_s / m_0$ = 0,0787\n",
    "    - Índice de carga de pago $\\mu = m_{pl}/m_0$ = 0,2832\n",
    "    - Motor J-2: $I_{sp}$ = 421 s, $v_e$  = 4,13 km/s\n",
    "    \n",
    "\n",
    "- Segunda Fase: \n",
    "    - Carga de pago: tercera fase completa (171.600 kg)\n",
    "    - Masa estructural: 40.100 kg\n",
    "    - Masa de combustible: 456.100 kg\n",
    "    - Masa inicial: $m_0 = m_s + m_p +m_{pl} $ = 667.800 kg\n",
    "    - Índice estructural $\\sigma$ = 0,0600\n",
    "    - Índice de carga de pago $\\mu$ = 0,2570\n",
    "    - Motor 5 x J-2: $I_{sp}$ = 421 s, $v_e$  = 4,13 km/s\n",
    "    \n",
    "    \n",
    "- Primera Fase: \n",
    "    - Carga de pago: segunda fase completa (667.800 kg)\n",
    "    - Masa estructural: 130.000 kg\n",
    "    - Masa de combustible: 2.160.000 kg\n",
    "    - Masa inicial: cohete completo $m_0 = m_s + m_p +m_{pl} $ = 2.960.000 Kg kg\n",
    "    - Índice estructural $\\sigma$ = 0,0439\n",
    "    - Índice de carga de pago $\\mu$ = 0,2264\n",
    "    - Motor 5 x F-1: $I_{sp}$ = 263 s, $v_e$  = 2,58 km/s"
   ]
  },
  {
   "cell_type": "code",
   "execution_count": 6,
   "metadata": {
    "collapsed": false
   },
   "outputs": [
    {
     "name": "stdout",
     "output_type": "stream",
     "text": [
      "Etapa 1:  3.37521489031 \n",
      "Etapa 2:  4.74476497608 \n",
      "Etapa 3:  4.19767974894 \n",
      "Total  : 12.3176596153\n"
     ]
    }
   ],
   "source": [
    "#Calculemos ahora el delta V del cohete!\n",
    "\n",
    "#Primera Fase:\n",
    "st1_sigma = 0.0439\n",
    "st1_mu = 0.2264\n",
    "st1_ve = 2.58\n",
    "st1_dv_adim = eq_cohete_adim_masa(st1_sigma, st1_mu)\n",
    "st1_dv = st1_dv_adim * st1_ve\n",
    "\n",
    "#Segunda Fase:\n",
    "st2_sigma = 0.0600\n",
    "st2_mu = 0.2570\n",
    "st2_ve = 4.13\n",
    "st2_dv_adim = eq_cohete_adim_masa(st2_sigma, st2_mu)\n",
    "st2_dv = st2_dv_adim * st2_ve\n",
    "\n",
    "#Tercera Fase:\n",
    "st3_sigma = 0.0787\n",
    "st3_mu = 0.2832\n",
    "st3_ve = 4.13\n",
    "st3_dv_adim = eq_cohete_adim_masa(st3_sigma, st3_mu)\n",
    "st3_dv = st3_dv_adim * st3_ve\n",
    "\n",
    "total_dv = st1_dv + st2_dv + st3_dv\n",
    "\n",
    "print(  'Etapa 1: ',st1_dv,\n",
    "      '\\nEtapa 2: ', st2_dv, '\\nEtapa 3: ', st3_dv, '\\nTotal  :', total_dv)"
   ]
  },
  {
   "cell_type": "markdown",
   "metadata": {},
   "source": [
    "Podemos comprobar que el Saturno V podía proporcionar un $\\Delta v$ de unos 12,3 Km/s. En realida, a medida que en la primera fase el cohete ascendía, la presión atmosférica disminuía, aumentando paulatinamente la $v_e$ hasta los 2,98 Km/s, lo que aumentaba el $\\Delta v$ de la etapa.\n"
   ]
  },
  {
   "cell_type": "code",
   "execution_count": 7,
   "metadata": {
    "collapsed": false
   },
   "outputs": [
    {
     "name": "stdout",
     "output_type": "stream",
     "text": [
      "Etapa 1, nivel del mar: 3.37521489031 \n",
      "Etapa 1, en el vacío  : 3.89850402059 \n",
      "Diferencia            : 0.52328913028\n"
     ]
    }
   ],
   "source": [
    "#Primera Fase, rendimiento en vacío:\n",
    "st1_ve_vac = 2.98\n",
    "st1_dv_vac = st1_dv_adim * st1_ve_vac\n",
    "print(  'Etapa 1, nivel del mar:', st1_dv,\n",
    "      '\\nEtapa 1, en el vacío  :', st1_dv_vac,\n",
    "      '\\nDiferencia            :', st1_dv_vac - st1_dv)"
   ]
  },
  {
   "cell_type": "markdown",
   "metadata": {},
   "source": [
    "Teniendo en cuenta este efecto, podemos acotar el $\\Delta v$ total entre 12,3 y 12,8 Km/s.\n",
    "\n",
    "Podemos asumir que el $\\Delta v$ necesario para alcanzar la órbita es de aproximadamente 9,3 Km/s, y que la maniobra de inyección translunar necesita entre 3,05 y 3,25. Esto nos da un $\\Delta v$ necesario de entre 12,35 y 12,55, que se corresponde con nuestro cálculo del $\\Delta v$ del cohete.\n",
    "\n",
    "Por lo tanto, hemos comprobado que el Saturno V era efectivamente capaz de proporcionar a una nave Apollo el $\\Delta v$ necesario para dejarlo en órbita de intercepción con la Luna!"
   ]
  },
  {
   "cell_type": "markdown",
   "metadata": {},
   "source": [
    "## Decidiendo el número de etapas"
   ]
  },
  {
   "cell_type": "markdown",
   "metadata": {},
   "source": [
    "Ahora, generemos un modelo que nos permita calcular cuántas estapas son la mejor opción para una misión dada. Para ello, el modelo se alimentará con el $\\Delta v$ de la misión a realizar y la masa de la carga de pago. El nivel de calidad y la tecnología usada para los motores se introducirán mediante dos parámetros: el impulso específico y la relación empuje-peso. \n",
    "\n",
    "Dos parámetros más cierran el problema: el cociente entre el empuje del motor y el peso total al inicio de la etapa, que nos indica la aceleración en ese momento, y la relación entre la masa de combustible de la etapa y la masa estructural a parte del motor.\n",
    "\n",
    "El resultado que más nos interesa extraer del modelo es la masa al despegue, que intentaremos minimizar. Esto nos permitirá optimizar el número de etapas para tener un cohete lo más eficiente posible."
   ]
  },
  {
   "cell_type": "code",
   "execution_count": 8,
   "metadata": {
    "collapsed": true
   },
   "outputs": [],
   "source": [
    "def etapa(delta_v, m_pl, isp, t_w_ratio_motor, t_w_ratio_total, structural_ratio):\n",
    "    '''Calcula la masa inicial de una etapa de cohete'''\n",
    "    \n",
    "    #Primero comprobamos si el cohete es capaz de dar el Dv necesario:\n",
    "    v_e = isp * 9.8 / 1000 #en km/s\n",
    "    _x = np.exp(delta_v/v_e) #Cociente entre la masa total y la masa final\n",
    "    _a = t_w_ratio_total / t_w_ratio_motor #cociente entre la masa del motor y la masa total\n",
    "    _b = structural_ratio #Un nombre más corto para las fórmulas\n",
    "    _y = (1 + _b)/(_a + _b) #parámetro intermedio\n",
    "    if _x - _y < -0.05 : #El delta v es aceptable\n",
    "        _ = (1 + _b) - _x * (_a + _b)\n",
    "        m_p = m_pl * (_x - 1)/_ #masa de combustible\n",
    "        m_s = m_p * _b #masa estructural, sin motores\n",
    "        m_0 = (m_s + m_pl + m_p)/(1-_a) #masa total\n",
    "    else:\n",
    "        m_0 = 0\n",
    "    \n",
    "    return m_0"
   ]
  },
  {
   "cell_type": "code",
   "execution_count": 9,
   "metadata": {
    "collapsed": false
   },
   "outputs": [
    {
     "data": {
      "text/plain": [
       "171.58878737372598"
      ]
     },
     "execution_count": 9,
     "metadata": {},
     "output_type": "execute_result"
    }
   ],
   "source": [
    "etapa(4.197, 48.6, 421.4, 73.18, 0.763, 0.107)"
   ]
  },
  {
   "cell_type": "code",
   "execution_count": 10,
   "metadata": {
    "collapsed": true
   },
   "outputs": [],
   "source": [
    "def cohete(etapas, delta_v, m_pl, isp, t_w_ratio_motor, t_w_ratio_total, structural_ratio):\n",
    "    '''Calcula la masa inicial de un cohete'''\n",
    "    dv_etapa = delta_v / etapas\n",
    "    m_0 = m_pl\n",
    "    for n_etapa in range(etapas):\n",
    "        m_pl_etapa = m_0\n",
    "        if n_etapa == 0 : #La primera etapa debe estar adaptada a la atmósfera, su eficiencia es menor\n",
    "            isp_etapa = isp * 0.7\n",
    "        else:\n",
    "            isp_etapa = isp\n",
    "        m_0 = etapa(dv_etapa, m_pl_etapa, isp_etapa, t_w_ratio_motor, t_w_ratio_total, structural_ratio)\n",
    "    return m_0"
   ]
  },
  {
   "cell_type": "markdown",
   "metadata": {},
   "source": [
    "Podemos comprobar que los datos coincide, por ejemplo, al usar la tercera etapa del Saturno V"
   ]
  },
  {
   "cell_type": "code",
   "execution_count": 11,
   "metadata": {
    "collapsed": false,
    "scrolled": true
   },
   "outputs": [
    {
     "data": {
      "text/plain": [
       "171.58878737372598"
      ]
     },
     "execution_count": 11,
     "metadata": {},
     "output_type": "execute_result"
    }
   ],
   "source": [
    "cohete(1, 4.197, 48.6, 421.4/0.7, 73.18, 0.763, 0.107)"
   ]
  },
  {
   "cell_type": "code",
   "execution_count": 12,
   "metadata": {
    "collapsed": true
   },
   "outputs": [],
   "source": [
    "def pintar_cohete(delta_v = 9.3 , m_pl = 5, isp = 400,\n",
    "                  t_w_ratio_motor = 80, t_w_ratio_total = 1, structural_ratio = 0.08):\n",
    "    '''Sirve para dibujar un gráfico de barras con la masa al despegue según el número de etapas'''\n",
    "    masses = []\n",
    "    for n_etapas in range(1, 9):\n",
    "        masses.append(cohete(n_etapas, delta_v, m_pl, isp, t_w_ratio_motor, t_w_ratio_total, structural_ratio))\n",
    "    \n",
    "    ind = np.arange(n_etapas)+ 0.2 # the x locations for the groups\n",
    "    width = 0.60       # the width of the bars\n",
    "\n",
    "    fig, ax = plt.subplots(figsize=(8, 4.5))\n",
    "    rects1 = ax.bar(ind, masses, width, color='#5555ff')\n",
    "\n",
    "\n",
    "    # add some text for labels, title and axes ticks\n",
    "    ax.set_ylabel('Masa al lanzamiento')\n",
    "    ax.set_xlabel('Número de etapas')\n",
    "    ax.set_xticks(ind + width/2)\n",
    "    ax.set_xticklabels(range(1, n_etapas + 1))\n",
    "\n",
    "    plt.show()"
   ]
  },
  {
   "cell_type": "code",
   "execution_count": 13,
   "metadata": {
    "collapsed": false
   },
   "outputs": [
    {
     "data": {
      "image/png": "[encoded data removed]",
      "text/plain": [
       "<matplotlib.figure.Figure at 0x7f709bf562e8>"
      ]
     },
     "metadata": {},
     "output_type": "display_data"
    }
   ],
   "source": [
    "pintar_cohete(13, 48.6, 421.4, 73.18, 0.763, 0.107)"
   ]
  },
  {
   "cell_type": "code",
   "execution_count": 14,
   "metadata": {
    "collapsed": false
   },
   "outputs": [],
   "source": [
    "from ipywidgets import interactive\n",
    "\n",
    "from IPython.display import display"
   ]
  },
  {
   "cell_type": "code",
   "execution_count": 15,
   "metadata": {
    "collapsed": false
   },
   "outputs": [
    {
     "data": {
      "image/png": "[encoded data removed]",
      "text/plain": [
       "<matplotlib.figure.Figure at 0x7f709c10a898>"
      ]
     },
     "metadata": {},
     "output_type": "display_data"
    }
   ],
   "source": [
    "v = interactive(pintar_cohete, \n",
    "               delta_v=(1.0,20.0, 1),\n",
    "               m_pl = (1, 100, 1),\n",
    "               isp = (250, 450, 10),\n",
    "               t_w_ratio_motor = (40, 180, 10),\n",
    "               t_w_ratio_total = (0.5, 5, 0.25),\n",
    "               structural_ratio = (0.04, 0.12, 0.01))\n",
    "display(v)"
   ]
  },
  {
   "cell_type": "markdown",
   "metadata": {},
   "source": [
    "Atribución de las imágenes del artículo:\n",
    "- http://trekinitiative.wikia.com/wiki/File:Enterprise_@_warp.jpg\n",
    "- http://pumpkindante.deviantart.com/art/The-Great-A-Tuin-377640489\n",
    "- http://guile93.deviantart.com/art/Tardis-leaving-348202689\n",
    "- http://starwars.wikia.com/wiki/Lightspeed\n",
    "- http://es.futurama.wikia.com/wiki/Nave_Planet_Express\n",
    "---\n",
    "- http://mk01.deviantart.com/art/Kerbal-Space-Odyssey-243246016\n",
    "- http://es.wikipedia.org/wiki/Saturno_V#Secuencia_de_la_S-II\n",
    "- http://danielmarin.naukas.com/2014/04/06/el-lanzamiento-de-un-cohete-soyuz-como-nunca-lo-habias-visto/\n",
    "- http://commons.wikimedia.org/wiki/File:Saturn5rocket_detailed_lmb.png\n",
    "- http://jeffmcdowalldesign.deviantart.com/art/Needs-Moar-Boosters-482458590"
   ]
  }
 ],
 "metadata": {
  "kernelspec": {
   "display_name": "Python 3",
   "language": "python",
   "name": "python3"
  },
  "language_info": {
   "codemirror_mode": {
    "name": "ipython",
    "version": 3
   },
   "file_extension": ".py",
   "mimetype": "text/x-python",
   "name": "python",
   "nbconvert_exporter": "python",
   "pygments_lexer": "ipython3",
   "version": "3.5.1"
  }
 },
 "nbformat": 4,
 "nbformat_minor": 0
}
